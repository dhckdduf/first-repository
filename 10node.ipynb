{
  "nbformat": 4,
  "nbformat_minor": 0,
  "metadata": {
    "colab": {
      "private_outputs": true,
      "provenance": [],
      "authorship_tag": "ABX9TyMUdJ7C6ue5vEix/kJ37MDk",
      "include_colab_link": true
    },
    "kernelspec": {
      "name": "python3",
      "display_name": "Python 3"
    },
    "language_info": {
      "name": "python"
    }
  },
  "cells": [
    {
      "cell_type": "markdown",
      "metadata": {
        "id": "view-in-github",
        "colab_type": "text"
      },
      "source": [
        "<a href=\"https://colab.research.google.com/github/dhckdduf/first-repository/blob/main/10node.ipynb\" target=\"_parent\"><img src=\"https://colab.research.google.com/assets/colab-badge.svg\" alt=\"Open In Colab\"/></a>"
      ]
    },
    {
      "cell_type": "code",
      "execution_count": null,
      "metadata": {
        "id": "rkEQwX9e8uo-"
      },
      "outputs": [],
      "source": [
        "# 프로젝트 1번: 평행사변형, 사다리꼴 넓이 구하기\n",
        "class Shapes:\n",
        "    def parallelogram(self, base, height):\n",
        "        \"\"\"평행사변형의 넓이를 계산하는 메서드\"\"\"\n",
        "        area = base * height\n",
        "        return f\"평행사변형의 넓이는 {area}입니다.\"\n",
        "\n",
        "    def trapezoid(self, upper_base, lower_base, height):\n",
        "        \"\"\"사다리꼴의 넓이를 계산하는 메서드\"\"\"\n",
        "        area = (upper_base + lower_base) * height / 2\n",
        "        return f\"사다리꼴의 넓이는 {area}입니다.\"\n"
      ]
    },
    {
      "cell_type": "code",
      "source": [],
      "metadata": {
        "id": "IIS32ncE9c4X"
      },
      "execution_count": null,
      "outputs": []
    },
    {
      "cell_type": "code",
      "source": [
        "# 프로젝트 2번: Kiosk 클래스 구현\n",
        "class Kiosk:\n",
        "    def __init__(self):\n",
        "        \"\"\"Kiosk 초기화\"\"\"\n",
        "        self.menu = ['americano', 'latte', 'mocha', 'yuza_tea', 'green_tea', 'choco_latte']\n",
        "        self.price = [2000, 3000, 3000, 2500, 2500, 3000]\n",
        "        self.order_menu = []\n",
        "        self.order_price = []\n",
        "        self.price_sum = 0\n",
        "\n",
        "    def menu_print(self):\n",
        "        \"\"\"메뉴 출력\"\"\"\n",
        "        print(\"메뉴:\")\n",
        "        for i in range(len(self.menu)):\n",
        "            print(f\"{i+1}. {self.menu[i]} : {self.price[i]}원\")\n"
      ],
      "metadata": {
        "id": "313DOzFc9Aa5"
      },
      "execution_count": null,
      "outputs": []
    },
    {
      "cell_type": "code",
      "source": [
        "def menu_select(self):\n",
        "        \"\"\"주문 메서드\"\"\"\n",
        "        while True:\n",
        "            n = int(input(\"음료 번호를 입력하세요 (0을 입력하면 주문 종료): \"))\n",
        "            if n == 0:\n",
        "                break\n",
        "            elif 1 <= n <= len(self.menu):\n",
        "                temp = input(\"HOT/ICE를 선택하세요 (1: HOT, 2: ICE): \").lower()\n",
        "                if temp in ['1', 'hot']:\n",
        "                    temp = 'HOT'\n",
        "                elif temp in ['2', 'ice']:\n",
        "                    temp = 'ICE'\n",
        "                else:\n",
        "                    print(\"잘못된 입력입니다. 다시 선택하세요.\")\n",
        "                    continue\n",
        "                self.order_menu.append(f\"{temp} {self.menu[n-1]}\")\n",
        "                self.order_price.append(self.price[n-1])\n",
        "                self.price_sum += self.price[n-1]\n",
        "                print(f\"추가된 음료: {temp} {self.menu[n-1]} : {self.price[n-1]}원\")\n",
        "            else:\n",
        "                print(\"없는 메뉴입니다. 다시 선택하세요.\")\n",
        "\n",
        "    def pay(self):\n",
        "        \"\"\"지불 메서드\"\"\"\n",
        "        print(f\"\\n총 결제 금액: {self.price_sum} 원\")\n",
        "        print(\"결제 수단을 선택하세요:\\n1. 현금\\n2. 카드\")\n",
        "        while True:\n",
        "            payment_method = input(\"결제 수단 ('cash' or 1 for 현금, 'card' or 2 for 카드): \").lower()\n",
        "            if payment_method in ['cash', '1']:\n",
        "                print(\"직원을 호출하겠습니다.\")\n",
        "                break\n",
        "            elif payment_method in ['card', '2']:\n",
        "                print(\"IC칩 방향에 맞게 카드를 꽂아주세요.\")\n",
        "                break\n",
        "            else:\n",
        "                print(\"다시 결제를 시도해 주세요.\")\n",
        "\n",
        "    def table(self):\n",
        "        \"\"\"주문표 작성 메서드\"\"\"\n",
        "        print('⟝' + '-' * 30 + '⟞')\n",
        "        for _ in range(2):\n",
        "            print('|' + ' ' * 31 + '|')\n",
        "\n",
        "        for i in range(len(self.order_menu)):\n",
        "            print(f'{self.order_menu[i]:<20} : {self.order_price[i]} 원')\n",
        "\n",
        "        print(f'\\n{\"합계 금액\":<20} : {self.price_sum} 원')\n",
        "        for _ in range(2):\n",
        "            print('|' + ' ' * 31 + '|')\n",
        "        print('⟝' + '-' * 30 + '⟞')"
      ],
      "metadata": {
        "id": "q8oj0yqO9KkM"
      },
      "execution_count": null,
      "outputs": []
    }
  ]
}